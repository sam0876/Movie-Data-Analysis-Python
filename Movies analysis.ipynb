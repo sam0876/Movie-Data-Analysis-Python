{
 "cells": [
  {
   "cell_type": "code",
   "execution_count": 487,
   "metadata": {},
   "outputs": [],
   "source": [
    "import pandas as pd\n",
    "import matplotlib.pyplot as plt\n",
    "import numpy as np\n",
    "\n",
    "from sklearn.tree import DecisionTreeRegressor\n",
    "from sklearn.model_selection import cross_val_score"
   ]
  },
  {
   "cell_type": "code",
   "execution_count": 488,
   "metadata": {},
   "outputs": [],
   "source": [
    "data = pd.read_csv(\"C:\\\\Users\\\\samni\\\\OneDrive\\\\Desktop\\\\movies\\\\movies.csv\")"
   ]
  },
  {
   "cell_type": "code",
   "execution_count": 489,
   "metadata": {},
   "outputs": [
    {
     "data": {
      "text/html": [
       "<div>\n",
       "<style scoped>\n",
       "    .dataframe tbody tr th:only-of-type {\n",
       "        vertical-align: middle;\n",
       "    }\n",
       "\n",
       "    .dataframe tbody tr th {\n",
       "        vertical-align: top;\n",
       "    }\n",
       "\n",
       "    .dataframe thead th {\n",
       "        text-align: right;\n",
       "    }\n",
       "</style>\n",
       "<table border=\"1\" class=\"dataframe\">\n",
       "  <thead>\n",
       "    <tr style=\"text-align: right;\">\n",
       "      <th></th>\n",
       "      <th>Film</th>\n",
       "      <th>Genre</th>\n",
       "      <th>Lead Studio</th>\n",
       "      <th>Audience score %</th>\n",
       "      <th>Profitability</th>\n",
       "      <th>Rotten Tomatoes %</th>\n",
       "      <th>Worldwide Gross</th>\n",
       "      <th>Year</th>\n",
       "    </tr>\n",
       "  </thead>\n",
       "  <tbody>\n",
       "    <tr>\n",
       "      <th>0</th>\n",
       "      <td>Zack and Miri Make a Porno</td>\n",
       "      <td>Romance</td>\n",
       "      <td>The Weinstein Company</td>\n",
       "      <td>70</td>\n",
       "      <td>1.747542</td>\n",
       "      <td>64</td>\n",
       "      <td>$41.94</td>\n",
       "      <td>2008</td>\n",
       "    </tr>\n",
       "    <tr>\n",
       "      <th>1</th>\n",
       "      <td>Youth in Revolt</td>\n",
       "      <td>Comedy</td>\n",
       "      <td>The Weinstein Company</td>\n",
       "      <td>52</td>\n",
       "      <td>1.090000</td>\n",
       "      <td>68</td>\n",
       "      <td>$19.62</td>\n",
       "      <td>2010</td>\n",
       "    </tr>\n",
       "    <tr>\n",
       "      <th>2</th>\n",
       "      <td>You Will Meet a Tall Dark Stranger</td>\n",
       "      <td>Comedy</td>\n",
       "      <td>Independent</td>\n",
       "      <td>35</td>\n",
       "      <td>1.211818</td>\n",
       "      <td>43</td>\n",
       "      <td>$26.66</td>\n",
       "      <td>2010</td>\n",
       "    </tr>\n",
       "    <tr>\n",
       "      <th>3</th>\n",
       "      <td>When in Rome</td>\n",
       "      <td>Comedy</td>\n",
       "      <td>Disney</td>\n",
       "      <td>44</td>\n",
       "      <td>0.000000</td>\n",
       "      <td>15</td>\n",
       "      <td>$43.04</td>\n",
       "      <td>2010</td>\n",
       "    </tr>\n",
       "    <tr>\n",
       "      <th>4</th>\n",
       "      <td>What Happens in Vegas</td>\n",
       "      <td>Comedy</td>\n",
       "      <td>Fox</td>\n",
       "      <td>72</td>\n",
       "      <td>6.267647</td>\n",
       "      <td>28</td>\n",
       "      <td>$219.37</td>\n",
       "      <td>2008</td>\n",
       "    </tr>\n",
       "  </tbody>\n",
       "</table>\n",
       "</div>"
      ],
      "text/plain": [
       "                                 Film    Genre            Lead Studio  \\\n",
       "0          Zack and Miri Make a Porno  Romance  The Weinstein Company   \n",
       "1                     Youth in Revolt   Comedy  The Weinstein Company   \n",
       "2  You Will Meet a Tall Dark Stranger   Comedy            Independent   \n",
       "3                        When in Rome   Comedy                 Disney   \n",
       "4               What Happens in Vegas   Comedy                    Fox   \n",
       "\n",
       "   Audience score %  Profitability  Rotten Tomatoes % Worldwide Gross  Year  \n",
       "0                70       1.747542                 64         $41.94   2008  \n",
       "1                52       1.090000                 68         $19.62   2010  \n",
       "2                35       1.211818                 43         $26.66   2010  \n",
       "3                44       0.000000                 15         $43.04   2010  \n",
       "4                72       6.267647                 28        $219.37   2008  "
      ]
     },
     "execution_count": 489,
     "metadata": {},
     "output_type": "execute_result"
    }
   ],
   "source": [
    "data.head()"
   ]
  },
  {
   "cell_type": "code",
   "execution_count": 490,
   "metadata": {},
   "outputs": [
    {
     "data": {
      "text/plain": [
       "Index(['Film', 'Genre', 'Lead Studio', 'Audience score %', 'Profitability',\n",
       "       'Rotten Tomatoes %', 'Worldwide Gross', 'Year'],\n",
       "      dtype='object')"
      ]
     },
     "execution_count": 490,
     "metadata": {},
     "output_type": "execute_result"
    }
   ],
   "source": [
    "data.columns"
   ]
  },
  {
   "cell_type": "code",
   "execution_count": 491,
   "metadata": {},
   "outputs": [
    {
     "data": {
      "text/plain": [
       "(77, 8)"
      ]
     },
     "execution_count": 491,
     "metadata": {},
     "output_type": "execute_result"
    }
   ],
   "source": [
    "data.shape"
   ]
  },
  {
   "cell_type": "code",
   "execution_count": 492,
   "metadata": {},
   "outputs": [
    {
     "name": "stdout",
     "output_type": "stream",
     "text": [
      "<class 'pandas.core.frame.DataFrame'>\n",
      "RangeIndex: 77 entries, 0 to 76\n",
      "Data columns (total 8 columns):\n",
      "Film                 77 non-null object\n",
      "Genre                77 non-null object\n",
      "Lead Studio          77 non-null object\n",
      "Audience score %     77 non-null int64\n",
      "Profitability        77 non-null float64\n",
      "Rotten Tomatoes %    77 non-null int64\n",
      "Worldwide Gross      77 non-null object\n",
      "Year                 77 non-null int64\n",
      "dtypes: float64(1), int64(3), object(4)\n",
      "memory usage: 4.9+ KB\n"
     ]
    }
   ],
   "source": [
    "data.info()"
   ]
  },
  {
   "cell_type": "code",
   "execution_count": 493,
   "metadata": {},
   "outputs": [],
   "source": [
    "data.columns = data.columns.str.replace(' ', '')"
   ]
  },
  {
   "cell_type": "code",
   "execution_count": 494,
   "metadata": {},
   "outputs": [
    {
     "name": "stderr",
     "output_type": "stream",
     "text": [
      "C:\\Users\\samni\\AppData\\Local\\Continuum\\anaconda3\\lib\\site-packages\\ipykernel_launcher.py:5: SettingWithCopyWarning:\n",
      "\n",
      "\n",
      "A value is trying to be set on a copy of a slice from a DataFrame\n",
      "\n",
      "See the caveats in the documentation: http://pandas.pydata.org/pandas-docs/stable/indexing.html#indexing-view-versus-copy\n",
      "\n"
     ]
    }
   ],
   "source": [
    "for i, row in data.iterrows(): #Iterate through each row of dataframe\n",
    "    gross = data.WorldwideGross[i]\n",
    "    gross = gross.replace('$','') #Trims $ from the values\n",
    "    #gross = gross.replace('%','') #Trims , from the values.\n",
    "    data.WorldwideGross[i] = gross"
   ]
  },
  {
   "cell_type": "code",
   "execution_count": 495,
   "metadata": {},
   "outputs": [],
   "source": [
    "#data.Genre = str(data.Genre).replace('darama', 'drama')"
   ]
  },
  {
   "cell_type": "code",
   "execution_count": 496,
   "metadata": {},
   "outputs": [],
   "source": [
    "data = data.rename(columns = {data.columns[-3] : 'RottenTomatoes'})"
   ]
  },
  {
   "cell_type": "code",
   "execution_count": 497,
   "metadata": {},
   "outputs": [],
   "source": [
    "data = data.rename(columns = {data.columns[-5] : 'Audiencescore'})"
   ]
  },
  {
   "cell_type": "code",
   "execution_count": 498,
   "metadata": {},
   "outputs": [
    {
     "data": {
      "text/html": [
       "<div>\n",
       "<style scoped>\n",
       "    .dataframe tbody tr th:only-of-type {\n",
       "        vertical-align: middle;\n",
       "    }\n",
       "\n",
       "    .dataframe tbody tr th {\n",
       "        vertical-align: top;\n",
       "    }\n",
       "\n",
       "    .dataframe thead th {\n",
       "        text-align: right;\n",
       "    }\n",
       "</style>\n",
       "<table border=\"1\" class=\"dataframe\">\n",
       "  <thead>\n",
       "    <tr style=\"text-align: right;\">\n",
       "      <th></th>\n",
       "      <th>Film</th>\n",
       "      <th>Genre</th>\n",
       "      <th>LeadStudio</th>\n",
       "      <th>Audiencescore</th>\n",
       "      <th>Profitability</th>\n",
       "      <th>RottenTomatoes</th>\n",
       "      <th>WorldwideGross</th>\n",
       "      <th>Year</th>\n",
       "    </tr>\n",
       "  </thead>\n",
       "  <tbody>\n",
       "    <tr>\n",
       "      <th>0</th>\n",
       "      <td>Zack and Miri Make a Porno</td>\n",
       "      <td>Romance</td>\n",
       "      <td>The Weinstein Company</td>\n",
       "      <td>70</td>\n",
       "      <td>1.747542</td>\n",
       "      <td>64</td>\n",
       "      <td>41.94</td>\n",
       "      <td>2008</td>\n",
       "    </tr>\n",
       "    <tr>\n",
       "      <th>1</th>\n",
       "      <td>Youth in Revolt</td>\n",
       "      <td>Comedy</td>\n",
       "      <td>The Weinstein Company</td>\n",
       "      <td>52</td>\n",
       "      <td>1.090000</td>\n",
       "      <td>68</td>\n",
       "      <td>19.62</td>\n",
       "      <td>2010</td>\n",
       "    </tr>\n",
       "    <tr>\n",
       "      <th>2</th>\n",
       "      <td>You Will Meet a Tall Dark Stranger</td>\n",
       "      <td>Comedy</td>\n",
       "      <td>Independent</td>\n",
       "      <td>35</td>\n",
       "      <td>1.211818</td>\n",
       "      <td>43</td>\n",
       "      <td>26.66</td>\n",
       "      <td>2010</td>\n",
       "    </tr>\n",
       "    <tr>\n",
       "      <th>3</th>\n",
       "      <td>When in Rome</td>\n",
       "      <td>Comedy</td>\n",
       "      <td>Disney</td>\n",
       "      <td>44</td>\n",
       "      <td>0.000000</td>\n",
       "      <td>15</td>\n",
       "      <td>43.04</td>\n",
       "      <td>2010</td>\n",
       "    </tr>\n",
       "    <tr>\n",
       "      <th>4</th>\n",
       "      <td>What Happens in Vegas</td>\n",
       "      <td>Comedy</td>\n",
       "      <td>Fox</td>\n",
       "      <td>72</td>\n",
       "      <td>6.267647</td>\n",
       "      <td>28</td>\n",
       "      <td>219.37</td>\n",
       "      <td>2008</td>\n",
       "    </tr>\n",
       "  </tbody>\n",
       "</table>\n",
       "</div>"
      ],
      "text/plain": [
       "                                 Film    Genre             LeadStudio  \\\n",
       "0          Zack and Miri Make a Porno  Romance  The Weinstein Company   \n",
       "1                     Youth in Revolt   Comedy  The Weinstein Company   \n",
       "2  You Will Meet a Tall Dark Stranger   Comedy            Independent   \n",
       "3                        When in Rome   Comedy                 Disney   \n",
       "4               What Happens in Vegas   Comedy                    Fox   \n",
       "\n",
       "   Audiencescore  Profitability  RottenTomatoes WorldwideGross  Year  \n",
       "0             70       1.747542              64         41.94   2008  \n",
       "1             52       1.090000              68         19.62   2010  \n",
       "2             35       1.211818              43         26.66   2010  \n",
       "3             44       0.000000              15         43.04   2010  \n",
       "4             72       6.267647              28        219.37   2008  "
      ]
     },
     "execution_count": 498,
     "metadata": {},
     "output_type": "execute_result"
    }
   ],
   "source": [
    "data.head()"
   ]
  },
  {
   "cell_type": "code",
   "execution_count": 499,
   "metadata": {},
   "outputs": [],
   "source": [
    "data['WorldwideGross'] = pd.to_numeric(data['WorldwideGross'], errors='coerce')"
   ]
  },
  {
   "cell_type": "code",
   "execution_count": 500,
   "metadata": {},
   "outputs": [
    {
     "name": "stdout",
     "output_type": "stream",
     "text": [
      "Comedy       41\n",
      "Drama        13\n",
      "Romance      13\n",
      "Animation     4\n",
      "Action        1\n",
      "romance       1\n",
      "comedy        1\n",
      "Romence       1\n",
      "Fantasy       1\n",
      "Comdy         1\n",
      "Name: Genre, dtype: int64\n"
     ]
    }
   ],
   "source": [
    "print(data['Genre'].value_counts(dropna=False))"
   ]
  },
  {
   "cell_type": "code",
   "execution_count": 501,
   "metadata": {},
   "outputs": [
    {
     "name": "stdout",
     "output_type": "stream",
     "text": [
      "Independent              19\n",
      "Warner Bros.             14\n",
      "Universal                 8\n",
      "Disney                    8\n",
      "Fox                       6\n",
      "Summit                    5\n",
      "Paramount                 4\n",
      "Sony                      4\n",
      "The Weinstein Company     3\n",
      "Lionsgate                 2\n",
      "20th Century Fox          2\n",
      "New Line                  1\n",
      "CBS                       1\n",
      "Name: LeadStudio, dtype: int64\n"
     ]
    }
   ],
   "source": [
    "print(data['LeadStudio'].value_counts(dropna=False))"
   ]
  },
  {
   "cell_type": "code",
   "execution_count": 502,
   "metadata": {},
   "outputs": [
    {
     "data": {
      "text/html": [
       "<div>\n",
       "<style scoped>\n",
       "    .dataframe tbody tr th:only-of-type {\n",
       "        vertical-align: middle;\n",
       "    }\n",
       "\n",
       "    .dataframe tbody tr th {\n",
       "        vertical-align: top;\n",
       "    }\n",
       "\n",
       "    .dataframe thead th {\n",
       "        text-align: right;\n",
       "    }\n",
       "</style>\n",
       "<table border=\"1\" class=\"dataframe\">\n",
       "  <thead>\n",
       "    <tr style=\"text-align: right;\">\n",
       "      <th></th>\n",
       "      <th>Audiencescore</th>\n",
       "      <th>Profitability</th>\n",
       "      <th>RottenTomatoes</th>\n",
       "      <th>WorldwideGross</th>\n",
       "      <th>Year</th>\n",
       "    </tr>\n",
       "  </thead>\n",
       "  <tbody>\n",
       "    <tr>\n",
       "      <th>count</th>\n",
       "      <td>77.000000</td>\n",
       "      <td>77.000000</td>\n",
       "      <td>77.000000</td>\n",
       "      <td>77.000000</td>\n",
       "      <td>77.000000</td>\n",
       "    </tr>\n",
       "    <tr>\n",
       "      <th>mean</th>\n",
       "      <td>63.727273</td>\n",
       "      <td>4.599483</td>\n",
       "      <td>46.701299</td>\n",
       "      <td>145.217532</td>\n",
       "      <td>2009.077922</td>\n",
       "    </tr>\n",
       "    <tr>\n",
       "      <th>std</th>\n",
       "      <td>13.657113</td>\n",
       "      <td>8.031990</td>\n",
       "      <td>26.095001</td>\n",
       "      <td>164.040155</td>\n",
       "      <td>1.354974</td>\n",
       "    </tr>\n",
       "    <tr>\n",
       "      <th>min</th>\n",
       "      <td>35.000000</td>\n",
       "      <td>0.000000</td>\n",
       "      <td>3.000000</td>\n",
       "      <td>0.030000</td>\n",
       "      <td>2007.000000</td>\n",
       "    </tr>\n",
       "    <tr>\n",
       "      <th>25%</th>\n",
       "      <td>52.000000</td>\n",
       "      <td>1.751351</td>\n",
       "      <td>26.000000</td>\n",
       "      <td>32.590000</td>\n",
       "      <td>2008.000000</td>\n",
       "    </tr>\n",
       "    <tr>\n",
       "      <th>50%</th>\n",
       "      <td>64.000000</td>\n",
       "      <td>2.642353</td>\n",
       "      <td>45.000000</td>\n",
       "      <td>79.180000</td>\n",
       "      <td>2009.000000</td>\n",
       "    </tr>\n",
       "    <tr>\n",
       "      <th>75%</th>\n",
       "      <td>76.000000</td>\n",
       "      <td>5.103117</td>\n",
       "      <td>64.000000</td>\n",
       "      <td>205.300000</td>\n",
       "      <td>2010.000000</td>\n",
       "    </tr>\n",
       "    <tr>\n",
       "      <th>max</th>\n",
       "      <td>89.000000</td>\n",
       "      <td>66.934000</td>\n",
       "      <td>96.000000</td>\n",
       "      <td>709.820000</td>\n",
       "      <td>2011.000000</td>\n",
       "    </tr>\n",
       "  </tbody>\n",
       "</table>\n",
       "</div>"
      ],
      "text/plain": [
       "       Audiencescore  Profitability  RottenTomatoes  WorldwideGross  \\\n",
       "count      77.000000      77.000000       77.000000       77.000000   \n",
       "mean       63.727273       4.599483       46.701299      145.217532   \n",
       "std        13.657113       8.031990       26.095001      164.040155   \n",
       "min        35.000000       0.000000        3.000000        0.030000   \n",
       "25%        52.000000       1.751351       26.000000       32.590000   \n",
       "50%        64.000000       2.642353       45.000000       79.180000   \n",
       "75%        76.000000       5.103117       64.000000      205.300000   \n",
       "max        89.000000      66.934000       96.000000      709.820000   \n",
       "\n",
       "              Year  \n",
       "count    77.000000  \n",
       "mean   2009.077922  \n",
       "std       1.354974  \n",
       "min    2007.000000  \n",
       "25%    2008.000000  \n",
       "50%    2009.000000  \n",
       "75%    2010.000000  \n",
       "max    2011.000000  "
      ]
     },
     "execution_count": 502,
     "metadata": {},
     "output_type": "execute_result"
    }
   ],
   "source": [
    "data.describe()"
   ]
  },
  {
   "cell_type": "code",
   "execution_count": 503,
   "metadata": {},
   "outputs": [
    {
     "data": {
      "image/png": "[encoded data removed]",
      "text/plain": [
       "<Figure size 432x288 with 1 Axes>"
      ]
     },
     "metadata": {
      "needs_background": "light"
     },
     "output_type": "display_data"
    }
   ],
   "source": [
    "data['Audiencescore'].plot(kind='hist', rot=10, logx=False, logy=False)\n",
    "plt.show()"
   ]
  },
  {
   "cell_type": "code",
   "execution_count": 504,
   "metadata": {},
   "outputs": [
    {
     "data": {
      "image/png": "[encoded data removed]",
      "text/plain": [
       "<Figure size 432x288 with 1 Axes>"
      ]
     },
     "metadata": {
      "needs_background": "light"
     },
     "output_type": "display_data"
    }
   ],
   "source": [
    "data['WorldwideGross'].plot(kind='hist', rot=10, logx=False, logy=True)\n",
    "plt.show()\n"
   ]
  },
  {
   "cell_type": "code",
   "execution_count": 505,
   "metadata": {},
   "outputs": [
    {
     "data": {
      "image/png": "[encoded data removed]",
      "text/plain": [
       "<Figure size 432x288 with 1 Axes>"
      ]
     },
     "metadata": {
      "needs_background": "light"
     },
     "output_type": "display_data"
    }
   ],
   "source": [
    "data.boxplot(column='WorldwideGross', by= 'Genre')\n",
    "plt.show()"
   ]
  },
  {
   "cell_type": "code",
   "execution_count": 506,
   "metadata": {},
   "outputs": [
    {
     "data": {
      "image/png": "[encoded data removed]",
      "text/plain": [
       "<Figure size 432x288 with 1 Axes>"
      ]
     },
     "metadata": {
      "needs_background": "light"
     },
     "output_type": "display_data"
    }
   ],
   "source": [
    "# Create and display the first scatter plot\n",
    "data.plot(kind='scatter', x='Profitability', y='WorldwideGross', rot=70)\n",
    "plt.show()"
   ]
  },
  {
   "cell_type": "code",
   "execution_count": 507,
   "metadata": {},
   "outputs": [
    {
     "data": {
      "image/png": "[encoded data removed]",
      "text/plain": [
       "<Figure size 432x288 with 1 Axes>"
      ]
     },
     "metadata": {
      "needs_background": "light"
     },
     "output_type": "display_data"
    }
   ],
   "source": [
    "# Create and display the first scatter plot\n",
    "data.plot(kind='scatter', x='Audiencescore', y='WorldwideGross', rot=70)\n",
    "plt.show()"
   ]
  },
  {
   "cell_type": "code",
   "execution_count": 508,
   "metadata": {},
   "outputs": [
    {
     "data": {
      "image/png": "[encoded data removed]",
      "text/plain": [
       "<Figure size 432x288 with 1 Axes>"
      ]
     },
     "metadata": {
      "needs_background": "light"
     },
     "output_type": "display_data"
    }
   ],
   "source": [
    "# Create and display the first scatter plot\n",
    "data.plot(kind='scatter', x='RottenTomatoes', y='WorldwideGross', rot=70)\n",
    "plt.show()"
   ]
  },
  {
   "cell_type": "code",
   "execution_count": 509,
   "metadata": {},
   "outputs": [
    {
     "data": {
      "text/plain": [
       "(77, 8)"
      ]
     },
     "execution_count": 509,
     "metadata": {},
     "output_type": "execute_result"
    }
   ],
   "source": [
    "data.shape"
   ]
  },
  {
   "cell_type": "code",
   "execution_count": 510,
   "metadata": {},
   "outputs": [
    {
     "name": "stdout",
     "output_type": "stream",
     "text": [
      "There are 77 total entries of movies and 8 no.of columns in it.\n"
     ]
    }
   ],
   "source": [
    "rows, col = data.shape\n",
    "#We need to reduce the count of row by one as contain header row also.\n",
    "print('There are {} total entries of movies and {} no.of columns in it.'.format(rows, col))\n"
   ]
  },
  {
   "cell_type": "code",
   "execution_count": 511,
   "metadata": {},
   "outputs": [
    {
     "name": "stdout",
     "output_type": "stream",
     "text": [
      "There are now 75 total entries of movies and 8 no.of columns in it.\n"
     ]
    }
   ],
   "source": [
    "data.drop_duplicates(keep ='first', inplace=True)\n",
    "rows, col = data.shape\n",
    "\n",
    "print('There are now {} total entries of movies and {} no.of columns in it.'.format(rows, col))"
   ]
  },
  {
   "cell_type": "code",
   "execution_count": 512,
   "metadata": {},
   "outputs": [
    {
     "name": "stdout",
     "output_type": "stream",
     "text": [
      "So after removing such entries, we now have only 75 no.of movies.\n"
     ]
    }
   ],
   "source": [
    "# creating a seperate list of revenue and budget column\n",
    "temp_list=['WorldwideGross']\n",
    "\n",
    "#this will replace all the value from '0' to NAN in the list\n",
    "data[temp_list] = data[temp_list].replace(0, np.NAN)\n",
    "\n",
    "#Removing all the row which has NaN value in temp_list \n",
    "data.dropna(subset = temp_list, inplace = True)\n",
    "\n",
    "rows, col = data.shape\n",
    "print('So after removing such entries, we now have only {} no.of movies.'.format(rows))"
   ]
  },
  {
   "cell_type": "code",
   "execution_count": 513,
   "metadata": {},
   "outputs": [
    {
     "data": {
      "text/html": [
       "<div>\n",
       "<style scoped>\n",
       "    .dataframe tbody tr th:only-of-type {\n",
       "        vertical-align: middle;\n",
       "    }\n",
       "\n",
       "    .dataframe tbody tr th {\n",
       "        vertical-align: top;\n",
       "    }\n",
       "\n",
       "    .dataframe thead th {\n",
       "        text-align: right;\n",
       "    }\n",
       "</style>\n",
       "<table border=\"1\" class=\"dataframe\">\n",
       "  <thead>\n",
       "    <tr style=\"text-align: right;\">\n",
       "      <th></th>\n",
       "      <th>68</th>\n",
       "      <th>3</th>\n",
       "    </tr>\n",
       "  </thead>\n",
       "  <tbody>\n",
       "    <tr>\n",
       "      <th>Film</th>\n",
       "      <td>Fireproof</td>\n",
       "      <td>When in Rome</td>\n",
       "    </tr>\n",
       "    <tr>\n",
       "      <th>Genre</th>\n",
       "      <td>Drama</td>\n",
       "      <td>Comedy</td>\n",
       "    </tr>\n",
       "    <tr>\n",
       "      <th>LeadStudio</th>\n",
       "      <td>Independent</td>\n",
       "      <td>Disney</td>\n",
       "    </tr>\n",
       "    <tr>\n",
       "      <th>Audiencescore</th>\n",
       "      <td>51</td>\n",
       "      <td>44</td>\n",
       "    </tr>\n",
       "    <tr>\n",
       "      <th>Profitability</th>\n",
       "      <td>66.934</td>\n",
       "      <td>0</td>\n",
       "    </tr>\n",
       "    <tr>\n",
       "      <th>RottenTomatoes</th>\n",
       "      <td>40</td>\n",
       "      <td>15</td>\n",
       "    </tr>\n",
       "    <tr>\n",
       "      <th>WorldwideGross</th>\n",
       "      <td>33.47</td>\n",
       "      <td>43.04</td>\n",
       "    </tr>\n",
       "    <tr>\n",
       "      <th>Year</th>\n",
       "      <td>2008</td>\n",
       "      <td>2010</td>\n",
       "    </tr>\n",
       "  </tbody>\n",
       "</table>\n",
       "</div>"
      ],
      "text/plain": [
       "                         68            3 \n",
       "Film              Fireproof  When in Rome\n",
       "Genre                 Drama        Comedy\n",
       "LeadStudio      Independent        Disney\n",
       "Audiencescore            51            44\n",
       "Profitability        66.934             0\n",
       "RottenTomatoes           40            15\n",
       "WorldwideGross        33.47         43.04\n",
       "Year                   2008          2010"
      ]
     },
     "execution_count": 513,
     "metadata": {},
     "output_type": "execute_result"
    }
   ],
   "source": [
    "import pprint\n",
    "#defining the function\n",
    "def calculate(column):\n",
    "    #for highest earned profit\n",
    "    high= data[column].idxmax()\n",
    "    high_details=pd.DataFrame(data.loc[high])\n",
    "    \n",
    "    #for lowest earned profit\n",
    "    low= data[column].idxmin()\n",
    "    low_details=pd.DataFrame(data.loc[low])\n",
    "    \n",
    "    #collectin data in one place\n",
    "    info=pd.concat([high_details, low_details], axis=1)\n",
    "    \n",
    "    return info\n",
    "\n",
    "#calling the function\n",
    "calculate('Profitability')"
   ]
  },
  {
   "cell_type": "code",
   "execution_count": 514,
   "metadata": {},
   "outputs": [
    {
     "data": {
      "text/html": [
       "<div>\n",
       "<style scoped>\n",
       "    .dataframe tbody tr th:only-of-type {\n",
       "        vertical-align: middle;\n",
       "    }\n",
       "\n",
       "    .dataframe tbody tr th {\n",
       "        vertical-align: top;\n",
       "    }\n",
       "\n",
       "    .dataframe thead th {\n",
       "        text-align: right;\n",
       "    }\n",
       "</style>\n",
       "<table border=\"1\" class=\"dataframe\">\n",
       "  <thead>\n",
       "    <tr style=\"text-align: right;\">\n",
       "      <th></th>\n",
       "      <th>14</th>\n",
       "      <th>8</th>\n",
       "    </tr>\n",
       "  </thead>\n",
       "  <tbody>\n",
       "    <tr>\n",
       "      <th>Film</th>\n",
       "      <td>The Twilight Saga: New Moon</td>\n",
       "      <td>Waiting For Forever</td>\n",
       "    </tr>\n",
       "    <tr>\n",
       "      <th>Genre</th>\n",
       "      <td>Drama</td>\n",
       "      <td>Romance</td>\n",
       "    </tr>\n",
       "    <tr>\n",
       "      <th>LeadStudio</th>\n",
       "      <td>Summit</td>\n",
       "      <td>Independent</td>\n",
       "    </tr>\n",
       "    <tr>\n",
       "      <th>Audiencescore</th>\n",
       "      <td>78</td>\n",
       "      <td>53</td>\n",
       "    </tr>\n",
       "    <tr>\n",
       "      <th>Profitability</th>\n",
       "      <td>14.1964</td>\n",
       "      <td>0.005</td>\n",
       "    </tr>\n",
       "    <tr>\n",
       "      <th>RottenTomatoes</th>\n",
       "      <td>27</td>\n",
       "      <td>6</td>\n",
       "    </tr>\n",
       "    <tr>\n",
       "      <th>WorldwideGross</th>\n",
       "      <td>709.82</td>\n",
       "      <td>0.03</td>\n",
       "    </tr>\n",
       "    <tr>\n",
       "      <th>Year</th>\n",
       "      <td>2009</td>\n",
       "      <td>2011</td>\n",
       "    </tr>\n",
       "  </tbody>\n",
       "</table>\n",
       "</div>"
      ],
      "text/plain": [
       "                                         14                   8 \n",
       "Film            The Twilight Saga: New Moon  Waiting For Forever\n",
       "Genre                                 Drama              Romance\n",
       "LeadStudio                           Summit          Independent\n",
       "Audiencescore                            78                   53\n",
       "Profitability                       14.1964                0.005\n",
       "RottenTomatoes                           27                    6\n",
       "WorldwideGross                       709.82                 0.03\n",
       "Year                                   2009                 2011"
      ]
     },
     "execution_count": 514,
     "metadata": {},
     "output_type": "execute_result"
    }
   ],
   "source": [
    "import pprint\n",
    "#defining the function\n",
    "def calculate(column):\n",
    "    #for highest earned profit\n",
    "    high= data[column].idxmax()\n",
    "    high_details=pd.DataFrame(data.loc[high])\n",
    "    \n",
    "    #for lowest earned profit\n",
    "    low= data[column].idxmin()\n",
    "    low_details=pd.DataFrame(data.loc[low])\n",
    "    \n",
    "    #collectin data in one place\n",
    "    info=pd.concat([high_details, low_details], axis=1)\n",
    "    \n",
    "    return info\n",
    "#calling the function\n",
    "calculate('WorldwideGross')"
   ]
  },
  {
   "cell_type": "code",
   "execution_count": 515,
   "metadata": {},
   "outputs": [],
   "source": [
    "# defining a function to find average of a column\n",
    "def avg_fun(column):\n",
    "    return data[column].mean()"
   ]
  },
  {
   "cell_type": "code",
   "execution_count": 516,
   "metadata": {},
   "outputs": [
    {
     "data": {
      "text/plain": [
       "63.72"
      ]
     },
     "execution_count": 516,
     "metadata": {},
     "output_type": "execute_result"
    }
   ],
   "source": [
    "\n",
    "#calling above function\n",
    "avg_fun('Audiencescore')"
   ]
  },
  {
   "cell_type": "code",
   "execution_count": 517,
   "metadata": {},
   "outputs": [
    {
     "data": {
      "image/png": "[encoded data removed]",
      "text/plain": [
       "<Figure size 900x500 with 1 Axes>"
      ]
     },
     "metadata": {
      "needs_background": "light"
     },
     "output_type": "display_data"
    }
   ],
   "source": [
    "#plotting a histogram of runtime of movies\n",
    "\n",
    "#giving the figure size(width, height)\n",
    "plt.figure(figsize=(9,5), dpi = 100)\n",
    "\n",
    "#On x-axis \n",
    "plt.xlabel('Audiencescore', fontsize = 15)\n",
    "#On y-axis \n",
    "plt.ylabel('Nos.of Movies ', fontsize=15)\n",
    "#Name of the graph\n",
    "plt.title('Audiencescore for all the movies', fontsize=15)\n",
    "\n",
    "#giving a histogram plot\n",
    "plt.hist(data['Audiencescore'], rwidth = 0.9, bins =35)\n",
    "#displays the plot\n",
    "plt.show()"
   ]
  },
  {
   "cell_type": "code",
   "execution_count": 518,
   "metadata": {},
   "outputs": [
    {
     "name": "stdout",
     "output_type": "stream",
     "text": [
      "                                 Film    Genre             LeadStudio  \\\n",
      "0          Zack and Miri Make a Porno  Romance  The Weinstein Company   \n",
      "1                     Youth in Revolt   Comedy  The Weinstein Company   \n",
      "2  You Will Meet a Tall Dark Stranger   Comedy            Independent   \n",
      "3                        When in Rome   Comedy                 Disney   \n",
      "4               What Happens in Vegas   Comedy                    Fox   \n",
      "\n",
      "   Audiencescore  Profitability  RottenTomatoes  WorldwideGross  Year  \n",
      "0             70       1.747542              64           41.94  2008  \n",
      "1             52       1.090000              68           19.62  2010  \n",
      "2             35       1.211818              43           26.66  2010  \n",
      "3             44       0.000000              15           43.04  2010  \n",
      "4             72       6.267647              28          219.37  2008  \n"
     ]
    }
   ],
   "source": [
    "print(data.head())"
   ]
  },
  {
   "cell_type": "code",
   "execution_count": 519,
   "metadata": {},
   "outputs": [],
   "source": [
    "\n",
    "from fuzzywuzzy import fuzz \n",
    "from fuzzywuzzy import process "
   ]
  },
  {
   "cell_type": "code",
   "execution_count": 520,
   "metadata": {},
   "outputs": [
    {
     "data": {
      "text/plain": [
       "0       romance\n",
       "1        comedy\n",
       "2        comedy\n",
       "3        comedy\n",
       "4        comedy\n",
       "5         drama\n",
       "6     animation\n",
       "7       romance\n",
       "8       romance\n",
       "9        comedy\n",
       "10      romance\n",
       "11      romance\n",
       "12      romance\n",
       "13       comedy\n",
       "14        drama\n",
       "15        drama\n",
       "16       comedy\n",
       "17       comedy\n",
       "18       comedy\n",
       "19        drama\n",
       "20      fantasy\n",
       "21       comedy\n",
       "22    animation\n",
       "23      romance\n",
       "24       comedy\n",
       "25       comedy\n",
       "26       comedy\n",
       "27       comedy\n",
       "28        drama\n",
       "29        drama\n",
       "        ...    \n",
       "45       comedy\n",
       "47        comdy\n",
       "48        drama\n",
       "49       comedy\n",
       "50       comedy\n",
       "51       comedy\n",
       "52       comedy\n",
       "53       comedy\n",
       "54       comedy\n",
       "55       action\n",
       "56       comedy\n",
       "57      romance\n",
       "58       comedy\n",
       "59       comedy\n",
       "60       comedy\n",
       "61       comedy\n",
       "62       comedy\n",
       "63       comedy\n",
       "64    animation\n",
       "66       comedy\n",
       "67       comedy\n",
       "68        drama\n",
       "69       comedy\n",
       "70        drama\n",
       "71       comedy\n",
       "72      romance\n",
       "73        drama\n",
       "74        drama\n",
       "75       comedy\n",
       "76       comedy\n",
       "Name: Genre, Length: 75, dtype: object"
      ]
     },
     "execution_count": 520,
     "metadata": {},
     "output_type": "execute_result"
    }
   ],
   "source": [
    "data['Genre'].str.lower()"
   ]
  },
  {
   "cell_type": "code",
   "execution_count": 521,
   "metadata": {},
   "outputs": [],
   "source": [
    "data['Genre']=data['Genre'].str.lower()"
   ]
  },
  {
   "cell_type": "code",
   "execution_count": 522,
   "metadata": {},
   "outputs": [],
   "source": [
    "data.Genre = data.Genre.replace(to_replace ='comdy', value = 'comedy', regex = True)"
   ]
  },
  {
   "cell_type": "code",
   "execution_count": 523,
   "metadata": {},
   "outputs": [],
   "source": [
    "data.Genre = data.Genre.replace(to_replace ='darama', value = 'drama', regex = True)"
   ]
  },
  {
   "cell_type": "code",
   "execution_count": 524,
   "metadata": {},
   "outputs": [],
   "source": [
    "data.Genre = data.Genre.replace(to_replace ='romence', value = 'romance', regex = True)\n"
   ]
  },
  {
   "cell_type": "code",
   "execution_count": 525,
   "metadata": {},
   "outputs": [
    {
     "data": {
      "text/plain": [
       "0       romance\n",
       "1        comedy\n",
       "2        comedy\n",
       "3        comedy\n",
       "4        comedy\n",
       "5         drama\n",
       "6     animation\n",
       "7       romance\n",
       "8       romance\n",
       "9        comedy\n",
       "10      romance\n",
       "11      romance\n",
       "12      romance\n",
       "13       comedy\n",
       "14        drama\n",
       "15        drama\n",
       "16       comedy\n",
       "17       comedy\n",
       "18       comedy\n",
       "19        drama\n",
       "20      fantasy\n",
       "21       comedy\n",
       "22    animation\n",
       "23      romance\n",
       "24       comedy\n",
       "25       comedy\n",
       "26       comedy\n",
       "27       comedy\n",
       "28        drama\n",
       "29        drama\n",
       "30       comedy\n",
       "31      romance\n",
       "32       comedy\n",
       "33       comedy\n",
       "34      romance\n",
       "35        drama\n",
       "36       comedy\n",
       "37       comedy\n",
       "38      romance\n",
       "39        drama\n",
       "40      romance\n",
       "41      romance\n",
       "42       comedy\n",
       "43      romance\n",
       "44       comedy\n",
       "Name: Genre, dtype: object"
      ]
     },
     "execution_count": 525,
     "metadata": {},
     "output_type": "execute_result"
    }
   ],
   "source": [
    "data['Genre'].head(45)"
   ]
  },
  {
   "cell_type": "code",
   "execution_count": 526,
   "metadata": {},
   "outputs": [
    {
     "data": {
      "text/plain": [
       "Genre      Film                               \n",
       "action     Killers                                 93.40\n",
       "animation  Gnomeo and Juliet                      193.97\n",
       "           Tangled                                355.01\n",
       "           WALL-E                                 521.28\n",
       "comedy     (500) Days of Summer                    60.72\n",
       "           27 Dresses                             160.31\n",
       "           Beginners                               14.31\n",
       "           Enchanted                              340.49\n",
       "           Four Christmases                       161.83\n",
       "           Ghosts of Girlfriends Past             102.22\n",
       "           Going the Distance                      42.05\n",
       "           Good Luck Chuck                         59.19\n",
       "           He's Just Not That Into You            178.84\n",
       "           High School Musical 3: Senior Year     252.04\n",
       "           I Love You Phillip Morris               20.10\n",
       "           It's Complicated                       224.60\n",
       "           Just Wright                             21.57\n",
       "           Knocked Up                             219.00\n",
       "           Leap Year                               32.59\n",
       "           Letters to Juliet                       79.18\n",
       "           License to Wed                          69.31\n",
       "           Life as We Know It                      96.16\n",
       "           Love & Other Drugs                      54.53\n",
       "           Made of Honor                          105.96\n",
       "           Mamma Mia!                             609.47\n",
       "           Marley and Me                          206.07\n",
       "           Miss Pettigrew Lives for a Day          15.17\n",
       "           Nick and Norah's Infinite Playlist      33.53\n",
       "           No Reservations                         92.60\n",
       "           Our Family Wedding                      21.37\n",
       "                                                   ...  \n",
       "           Youth in Revolt                         19.62\n",
       "drama      A Dangerous Method                       8.97\n",
       "           A Serious Man                           30.68\n",
       "           Dear John                              114.97\n",
       "           Fireproof                               33.47\n",
       "           Love Happens                            36.08\n",
       "           My Week with Marilyn                     8.26\n",
       "           Not Easily Broken                       10.70\n",
       "           Rachel Getting Married                  16.61\n",
       "           Remember Me                             55.86\n",
       "           The Duchess                             43.31\n",
       "           The Time Traveler's Wife               101.33\n",
       "           The Twilight Saga: New Moon            709.82\n",
       "           Water For Elephants                    117.09\n",
       "fantasy    The Curious Case of Benjamin Button    285.43\n",
       "romance    Across the Universe                     29.37\n",
       "           Jane Eyre                               30.15\n",
       "           Midnight in Paris                      148.66\n",
       "           Monte Carlo                             39.66\n",
       "           Music and Lyrics                       145.90\n",
       "           New Year's Eve                         142.04\n",
       "           One Day                                 55.24\n",
       "           P.S. I Love You                        153.09\n",
       "           Something Borrowed                      60.18\n",
       "           Twilight                               376.66\n",
       "           Twilight: Breaking Dawn                702.17\n",
       "           Tyler Perry's Why Did I get Married     55.86\n",
       "           Waiting For Forever                      0.03\n",
       "           Waitress                                22.18\n",
       "           Zack and Miri Make a Porno              41.94\n",
       "Name: WorldwideGross, Length: 75, dtype: float64"
      ]
     },
     "execution_count": 526,
     "metadata": {},
     "output_type": "execute_result"
    }
   ],
   "source": [
    "data['WorldwideGross'].groupby([data['Genre'],data['Film']]).sum()"
   ]
  },
  {
   "cell_type": "code",
   "execution_count": 527,
   "metadata": {},
   "outputs": [
    {
     "data": {
      "text/plain": [
       "Year  Film                               \n",
       "2007  Across the Universe                     29.37\n",
       "      Enchanted                              340.49\n",
       "      Good Luck Chuck                         59.19\n",
       "      Knocked Up                             219.00\n",
       "      License to Wed                          69.31\n",
       "      Music and Lyrics                       145.90\n",
       "      No Reservations                         92.60\n",
       "      P.S. I Love You                        153.09\n",
       "      The Heartbreak Kid                     127.77\n",
       "      Tyler Perry's Why Did I get Married     55.86\n",
       "      Waitress                                22.18\n",
       "2008  27 Dresses                             160.31\n",
       "      Fireproof                               33.47\n",
       "      Four Christmases                       161.83\n",
       "      High School Musical 3: Senior Year     252.04\n",
       "      Made of Honor                          105.96\n",
       "      Mamma Mia!                             609.47\n",
       "      Marley and Me                          206.07\n",
       "      Miss Pettigrew Lives for a Day          15.17\n",
       "      Nick and Norah's Infinite Playlist      33.53\n",
       "      Over Her Dead Body                      20.71\n",
       "      Penelope                                20.74\n",
       "      Rachel Getting Married                  16.61\n",
       "      Sex and the City                       415.25\n",
       "      The Curious Case of Benjamin Button    285.43\n",
       "      The Duchess                             43.31\n",
       "      Twilight                               376.66\n",
       "      WALL-E                                 521.28\n",
       "      What Happens in Vegas                  219.37\n",
       "      Zack and Miri Make a Porno              41.94\n",
       "                                              ...  \n",
       "2010  Just Wright                             21.57\n",
       "      Killers                                 93.40\n",
       "      Leap Year                               32.59\n",
       "      Letters to Juliet                       79.18\n",
       "      Life as We Know It                      96.16\n",
       "      Love & Other Drugs                      54.53\n",
       "      Our Family Wedding                      21.37\n",
       "      Remember Me                             55.86\n",
       "      Sex and the City 2                     288.35\n",
       "      Sex and the City Two                   288.35\n",
       "      She's Out of My League                  48.81\n",
       "      Tangled                                355.01\n",
       "      The Back-up Plan                        77.09\n",
       "      Valentine's Day                        217.57\n",
       "      When in Rome                            43.04\n",
       "      You Will Meet a Tall Dark Stranger      26.66\n",
       "      Youth in Revolt                         19.62\n",
       "2011  A Dangerous Method                       8.97\n",
       "      Beginners                               14.31\n",
       "      Gnomeo and Juliet                      193.97\n",
       "      Jane Eyre                               30.15\n",
       "      Midnight in Paris                      148.66\n",
       "      Monte Carlo                             39.66\n",
       "      My Week with Marilyn                     8.26\n",
       "      New Year's Eve                         142.04\n",
       "      One Day                                 55.24\n",
       "      Something Borrowed                      60.18\n",
       "      Twilight: Breaking Dawn                702.17\n",
       "      Waiting For Forever                      0.03\n",
       "      Water For Elephants                    117.09\n",
       "Name: WorldwideGross, Length: 75, dtype: float64"
      ]
     },
     "execution_count": 527,
     "metadata": {},
     "output_type": "execute_result"
    }
   ],
   "source": [
    "data['WorldwideGross'].groupby([data['Year'],data['Film']]).max()"
   ]
  },
  {
   "cell_type": "code",
   "execution_count": 528,
   "metadata": {},
   "outputs": [],
   "source": [
    "data['WorldwideGross']= data['WorldwideGross'].fillna(np.mean(data['WorldwideGross']))"
   ]
  },
  {
   "cell_type": "code",
   "execution_count": 529,
   "metadata": {},
   "outputs": [],
   "source": [
    "data_2007= data[data.Year==2007]\n",
    "data_2008= data[data.Year==2008]\n",
    "data_2009= data[data.Year==2009]\n",
    "data_2010= data[data.Year==2010]\n",
    "data_2011= data[data.Year==2011]\n"
   ]
  },
  {
   "cell_type": "code",
   "execution_count": 530,
   "metadata": {},
   "outputs": [
    {
     "data": {
      "text/html": [
       "<div>\n",
       "<style scoped>\n",
       "    .dataframe tbody tr th:only-of-type {\n",
       "        vertical-align: middle;\n",
       "    }\n",
       "\n",
       "    .dataframe tbody tr th {\n",
       "        vertical-align: top;\n",
       "    }\n",
       "\n",
       "    .dataframe thead th {\n",
       "        text-align: right;\n",
       "    }\n",
       "</style>\n",
       "<table border=\"1\" class=\"dataframe\">\n",
       "  <thead>\n",
       "    <tr style=\"text-align: right;\">\n",
       "      <th></th>\n",
       "      <th>Film</th>\n",
       "      <th>Genre</th>\n",
       "      <th>LeadStudio</th>\n",
       "      <th>Audiencescore</th>\n",
       "      <th>Profitability</th>\n",
       "      <th>RottenTomatoes</th>\n",
       "      <th>WorldwideGross</th>\n",
       "      <th>Year</th>\n",
       "    </tr>\n",
       "  </thead>\n",
       "  <tbody>\n",
       "    <tr>\n",
       "      <th>69</th>\n",
       "      <td>Enchanted</td>\n",
       "      <td>comedy</td>\n",
       "      <td>Disney</td>\n",
       "      <td>80</td>\n",
       "      <td>4.005737</td>\n",
       "      <td>93</td>\n",
       "      <td>340.49</td>\n",
       "      <td>2007</td>\n",
       "    </tr>\n",
       "  </tbody>\n",
       "</table>\n",
       "</div>"
      ],
      "text/plain": [
       "         Film   Genre LeadStudio  Audiencescore  Profitability  \\\n",
       "69  Enchanted  comedy     Disney             80       4.005737   \n",
       "\n",
       "    RottenTomatoes  WorldwideGross  Year  \n",
       "69              93          340.49  2007  "
      ]
     },
     "execution_count": 530,
     "metadata": {},
     "output_type": "execute_result"
    }
   ],
   "source": [
    "data_2007.loc[data_2007['WorldwideGross']==max(data_2007['WorldwideGross'])]"
   ]
  },
  {
   "cell_type": "code",
   "execution_count": 531,
   "metadata": {},
   "outputs": [
    {
     "data": {
      "text/html": [
       "<div>\n",
       "<style scoped>\n",
       "    .dataframe tbody tr th:only-of-type {\n",
       "        vertical-align: middle;\n",
       "    }\n",
       "\n",
       "    .dataframe tbody tr th {\n",
       "        vertical-align: top;\n",
       "    }\n",
       "\n",
       "    .dataframe thead th {\n",
       "        text-align: right;\n",
       "    }\n",
       "</style>\n",
       "<table border=\"1\" class=\"dataframe\">\n",
       "  <thead>\n",
       "    <tr style=\"text-align: right;\">\n",
       "      <th></th>\n",
       "      <th>Film</th>\n",
       "      <th>Genre</th>\n",
       "      <th>LeadStudio</th>\n",
       "      <th>Audiencescore</th>\n",
       "      <th>Profitability</th>\n",
       "      <th>RottenTomatoes</th>\n",
       "      <th>WorldwideGross</th>\n",
       "      <th>Year</th>\n",
       "    </tr>\n",
       "  </thead>\n",
       "  <tbody>\n",
       "    <tr>\n",
       "      <th>45</th>\n",
       "      <td>Mamma Mia!</td>\n",
       "      <td>comedy</td>\n",
       "      <td>Universal</td>\n",
       "      <td>76</td>\n",
       "      <td>9.234454</td>\n",
       "      <td>53</td>\n",
       "      <td>609.47</td>\n",
       "      <td>2008</td>\n",
       "    </tr>\n",
       "  </tbody>\n",
       "</table>\n",
       "</div>"
      ],
      "text/plain": [
       "          Film   Genre LeadStudio  Audiencescore  Profitability  \\\n",
       "45  Mamma Mia!  comedy  Universal             76       9.234454   \n",
       "\n",
       "    RottenTomatoes  WorldwideGross  Year  \n",
       "45              53          609.47  2008  "
      ]
     },
     "execution_count": 531,
     "metadata": {},
     "output_type": "execute_result"
    }
   ],
   "source": [
    "data_2008.loc[data_2008['WorldwideGross']==max(data_2008['WorldwideGross'])]"
   ]
  },
  {
   "cell_type": "code",
   "execution_count": 532,
   "metadata": {},
   "outputs": [
    {
     "data": {
      "text/html": [
       "<div>\n",
       "<style scoped>\n",
       "    .dataframe tbody tr th:only-of-type {\n",
       "        vertical-align: middle;\n",
       "    }\n",
       "\n",
       "    .dataframe tbody tr th {\n",
       "        vertical-align: top;\n",
       "    }\n",
       "\n",
       "    .dataframe thead th {\n",
       "        text-align: right;\n",
       "    }\n",
       "</style>\n",
       "<table border=\"1\" class=\"dataframe\">\n",
       "  <thead>\n",
       "    <tr style=\"text-align: right;\">\n",
       "      <th></th>\n",
       "      <th>Film</th>\n",
       "      <th>Genre</th>\n",
       "      <th>LeadStudio</th>\n",
       "      <th>Audiencescore</th>\n",
       "      <th>Profitability</th>\n",
       "      <th>RottenTomatoes</th>\n",
       "      <th>WorldwideGross</th>\n",
       "      <th>Year</th>\n",
       "    </tr>\n",
       "  </thead>\n",
       "  <tbody>\n",
       "    <tr>\n",
       "      <th>14</th>\n",
       "      <td>The Twilight Saga: New Moon</td>\n",
       "      <td>drama</td>\n",
       "      <td>Summit</td>\n",
       "      <td>78</td>\n",
       "      <td>14.1964</td>\n",
       "      <td>27</td>\n",
       "      <td>709.82</td>\n",
       "      <td>2009</td>\n",
       "    </tr>\n",
       "  </tbody>\n",
       "</table>\n",
       "</div>"
      ],
      "text/plain": [
       "                           Film  Genre LeadStudio  Audiencescore  \\\n",
       "14  The Twilight Saga: New Moon  drama     Summit             78   \n",
       "\n",
       "    Profitability  RottenTomatoes  WorldwideGross  Year  \n",
       "14        14.1964              27          709.82  2009  "
      ]
     },
     "execution_count": 532,
     "metadata": {},
     "output_type": "execute_result"
    }
   ],
   "source": [
    "data_2009.loc[data_2009['WorldwideGross']==max(data_2009['WorldwideGross'])]"
   ]
  },
  {
   "cell_type": "code",
   "execution_count": 533,
   "metadata": {},
   "outputs": [
    {
     "data": {
      "text/html": [
       "<div>\n",
       "<style scoped>\n",
       "    .dataframe tbody tr th:only-of-type {\n",
       "        vertical-align: middle;\n",
       "    }\n",
       "\n",
       "    .dataframe tbody tr th {\n",
       "        vertical-align: top;\n",
       "    }\n",
       "\n",
       "    .dataframe thead th {\n",
       "        text-align: right;\n",
       "    }\n",
       "</style>\n",
       "<table border=\"1\" class=\"dataframe\">\n",
       "  <thead>\n",
       "    <tr style=\"text-align: right;\">\n",
       "      <th></th>\n",
       "      <th>Film</th>\n",
       "      <th>Genre</th>\n",
       "      <th>LeadStudio</th>\n",
       "      <th>Audiencescore</th>\n",
       "      <th>Profitability</th>\n",
       "      <th>RottenTomatoes</th>\n",
       "      <th>WorldwideGross</th>\n",
       "      <th>Year</th>\n",
       "    </tr>\n",
       "  </thead>\n",
       "  <tbody>\n",
       "    <tr>\n",
       "      <th>22</th>\n",
       "      <td>Tangled</td>\n",
       "      <td>animation</td>\n",
       "      <td>Disney</td>\n",
       "      <td>88</td>\n",
       "      <td>1.365692</td>\n",
       "      <td>89</td>\n",
       "      <td>355.01</td>\n",
       "      <td>2010</td>\n",
       "    </tr>\n",
       "  </tbody>\n",
       "</table>\n",
       "</div>"
      ],
      "text/plain": [
       "       Film      Genre LeadStudio  Audiencescore  Profitability  \\\n",
       "22  Tangled  animation     Disney             88       1.365692   \n",
       "\n",
       "    RottenTomatoes  WorldwideGross  Year  \n",
       "22              89          355.01  2010  "
      ]
     },
     "execution_count": 533,
     "metadata": {},
     "output_type": "execute_result"
    }
   ],
   "source": [
    "data_2010.loc[data_2010['WorldwideGross']==max(data_2010['WorldwideGross'])]"
   ]
  },
  {
   "cell_type": "code",
   "execution_count": 534,
   "metadata": {},
   "outputs": [
    {
     "data": {
      "text/html": [
       "<div>\n",
       "<style scoped>\n",
       "    .dataframe tbody tr th:only-of-type {\n",
       "        vertical-align: middle;\n",
       "    }\n",
       "\n",
       "    .dataframe tbody tr th {\n",
       "        vertical-align: top;\n",
       "    }\n",
       "\n",
       "    .dataframe thead th {\n",
       "        text-align: right;\n",
       "    }\n",
       "</style>\n",
       "<table border=\"1\" class=\"dataframe\">\n",
       "  <thead>\n",
       "    <tr style=\"text-align: right;\">\n",
       "      <th></th>\n",
       "      <th>Film</th>\n",
       "      <th>Genre</th>\n",
       "      <th>LeadStudio</th>\n",
       "      <th>Audiencescore</th>\n",
       "      <th>Profitability</th>\n",
       "      <th>RottenTomatoes</th>\n",
       "      <th>WorldwideGross</th>\n",
       "      <th>Year</th>\n",
       "    </tr>\n",
       "  </thead>\n",
       "  <tbody>\n",
       "    <tr>\n",
       "      <th>11</th>\n",
       "      <td>Twilight: Breaking Dawn</td>\n",
       "      <td>romance</td>\n",
       "      <td>Independent</td>\n",
       "      <td>68</td>\n",
       "      <td>6.383364</td>\n",
       "      <td>26</td>\n",
       "      <td>702.17</td>\n",
       "      <td>2011</td>\n",
       "    </tr>\n",
       "  </tbody>\n",
       "</table>\n",
       "</div>"
      ],
      "text/plain": [
       "                       Film    Genre   LeadStudio  Audiencescore  \\\n",
       "11  Twilight: Breaking Dawn  romance  Independent             68   \n",
       "\n",
       "    Profitability  RottenTomatoes  WorldwideGross  Year  \n",
       "11       6.383364              26          702.17  2011  "
      ]
     },
     "execution_count": 534,
     "metadata": {},
     "output_type": "execute_result"
    }
   ],
   "source": [
    "data_2011.loc[data_2011['WorldwideGross']==max(data_2011['WorldwideGross'])]"
   ]
  },
  {
   "cell_type": "code",
   "execution_count": 535,
   "metadata": {},
   "outputs": [
    {
     "data": {
      "text/html": [
       "<div>\n",
       "<style scoped>\n",
       "    .dataframe tbody tr th:only-of-type {\n",
       "        vertical-align: middle;\n",
       "    }\n",
       "\n",
       "    .dataframe tbody tr th {\n",
       "        vertical-align: top;\n",
       "    }\n",
       "\n",
       "    .dataframe thead th {\n",
       "        text-align: right;\n",
       "    }\n",
       "</style>\n",
       "<table border=\"1\" class=\"dataframe\">\n",
       "  <thead>\n",
       "    <tr style=\"text-align: right;\">\n",
       "      <th></th>\n",
       "      <th>Film</th>\n",
       "    </tr>\n",
       "    <tr>\n",
       "      <th>Genre</th>\n",
       "      <th></th>\n",
       "    </tr>\n",
       "  </thead>\n",
       "  <tbody>\n",
       "    <tr>\n",
       "      <th>action</th>\n",
       "      <td>1</td>\n",
       "    </tr>\n",
       "    <tr>\n",
       "      <th>animation</th>\n",
       "      <td>3</td>\n",
       "    </tr>\n",
       "    <tr>\n",
       "      <th>comedy</th>\n",
       "      <td>42</td>\n",
       "    </tr>\n",
       "    <tr>\n",
       "      <th>drama</th>\n",
       "      <td>13</td>\n",
       "    </tr>\n",
       "    <tr>\n",
       "      <th>fantasy</th>\n",
       "      <td>1</td>\n",
       "    </tr>\n",
       "    <tr>\n",
       "      <th>romance</th>\n",
       "      <td>15</td>\n",
       "    </tr>\n",
       "  </tbody>\n",
       "</table>\n",
       "</div>"
      ],
      "text/plain": [
       "           Film\n",
       "Genre          \n",
       "action        1\n",
       "animation     3\n",
       "comedy       42\n",
       "drama        13\n",
       "fantasy       1\n",
       "romance      15"
      ]
     },
     "execution_count": 535,
     "metadata": {},
     "output_type": "execute_result"
    }
   ],
   "source": [
    "data['RottenTomatoes']\n",
    "pd.pivot_table(data, values='Film', index= ['Genre'], columns= None, aggfunc='count')"
   ]
  },
  {
   "cell_type": "code",
   "execution_count": 536,
   "metadata": {},
   "outputs": [
    {
     "data": {
      "text/html": [
       "<div>\n",
       "<style scoped>\n",
       "    .dataframe tbody tr th:only-of-type {\n",
       "        vertical-align: middle;\n",
       "    }\n",
       "\n",
       "    .dataframe tbody tr th {\n",
       "        vertical-align: top;\n",
       "    }\n",
       "\n",
       "    .dataframe thead th {\n",
       "        text-align: right;\n",
       "    }\n",
       "</style>\n",
       "<table border=\"1\" class=\"dataframe\">\n",
       "  <thead>\n",
       "    <tr style=\"text-align: right;\">\n",
       "      <th></th>\n",
       "      <th>RottenTomatoes</th>\n",
       "    </tr>\n",
       "    <tr>\n",
       "      <th>LeadStudio</th>\n",
       "      <th></th>\n",
       "    </tr>\n",
       "  </thead>\n",
       "  <tbody>\n",
       "    <tr>\n",
       "      <th>20th Century Fox</th>\n",
       "      <td>49.000000</td>\n",
       "    </tr>\n",
       "    <tr>\n",
       "      <th>CBS</th>\n",
       "      <td>20.000000</td>\n",
       "    </tr>\n",
       "    <tr>\n",
       "      <th>Disney</th>\n",
       "      <td>65.285714</td>\n",
       "    </tr>\n",
       "    <tr>\n",
       "      <th>Fox</th>\n",
       "      <td>51.833333</td>\n",
       "    </tr>\n",
       "    <tr>\n",
       "      <th>Independent</th>\n",
       "      <td>45.473684</td>\n",
       "    </tr>\n",
       "    <tr>\n",
       "      <th>Lionsgate</th>\n",
       "      <td>7.000000</td>\n",
       "    </tr>\n",
       "    <tr>\n",
       "      <th>New Line</th>\n",
       "      <td>15.000000</td>\n",
       "    </tr>\n",
       "    <tr>\n",
       "      <th>Paramount</th>\n",
       "      <td>46.250000</td>\n",
       "    </tr>\n",
       "    <tr>\n",
       "      <th>Sony</th>\n",
       "      <td>52.000000</td>\n",
       "    </tr>\n",
       "    <tr>\n",
       "      <th>Summit</th>\n",
       "      <td>39.200000</td>\n",
       "    </tr>\n",
       "    <tr>\n",
       "      <th>The Weinstein Company</th>\n",
       "      <td>71.666667</td>\n",
       "    </tr>\n",
       "    <tr>\n",
       "      <th>Universal</th>\n",
       "      <td>59.000000</td>\n",
       "    </tr>\n",
       "    <tr>\n",
       "      <th>Warner Bros.</th>\n",
       "      <td>35.071429</td>\n",
       "    </tr>\n",
       "  </tbody>\n",
       "</table>\n",
       "</div>"
      ],
      "text/plain": [
       "                       RottenTomatoes\n",
       "LeadStudio                           \n",
       "20th Century Fox            49.000000\n",
       "CBS                         20.000000\n",
       "Disney                      65.285714\n",
       "Fox                         51.833333\n",
       "Independent                 45.473684\n",
       "Lionsgate                    7.000000\n",
       "New Line                    15.000000\n",
       "Paramount                   46.250000\n",
       "Sony                        52.000000\n",
       "Summit                      39.200000\n",
       "The Weinstein Company       71.666667\n",
       "Universal                   59.000000\n",
       "Warner Bros.                35.071429"
      ]
     },
     "execution_count": 536,
     "metadata": {},
     "output_type": "execute_result"
    }
   ],
   "source": [
    "pd.pivot_table(data, values= 'RottenTomatoes', index=['LeadStudio'], columns= None, aggfunc= np.mean)"
   ]
  },
  {
   "cell_type": "code",
   "execution_count": 446,
   "metadata": {},
   "outputs": [],
   "source": [
    "df =pd.get_dummies(data, columns=['Genre', 'LeadStudio'], drop_first=True)"
   ]
  },
  {
   "cell_type": "code",
   "execution_count": 537,
   "metadata": {},
   "outputs": [
    {
     "data": {
      "text/html": [
       "<div>\n",
       "<style scoped>\n",
       "    .dataframe tbody tr th:only-of-type {\n",
       "        vertical-align: middle;\n",
       "    }\n",
       "\n",
       "    .dataframe tbody tr th {\n",
       "        vertical-align: top;\n",
       "    }\n",
       "\n",
       "    .dataframe thead th {\n",
       "        text-align: right;\n",
       "    }\n",
       "</style>\n",
       "<table border=\"1\" class=\"dataframe\">\n",
       "  <thead>\n",
       "    <tr style=\"text-align: right;\">\n",
       "      <th></th>\n",
       "      <th>Film</th>\n",
       "      <th>Audiencescore</th>\n",
       "      <th>Profitability</th>\n",
       "      <th>RottenTomatoes</th>\n",
       "      <th>WorldwideGross</th>\n",
       "      <th>Year</th>\n",
       "      <th>Genre_animation</th>\n",
       "      <th>Genre_comedy</th>\n",
       "      <th>Genre_drama</th>\n",
       "      <th>Genre_fantasy</th>\n",
       "      <th>...</th>\n",
       "      <th>LeadStudio_Fox</th>\n",
       "      <th>LeadStudio_Independent</th>\n",
       "      <th>LeadStudio_Lionsgate</th>\n",
       "      <th>LeadStudio_New Line</th>\n",
       "      <th>LeadStudio_Paramount</th>\n",
       "      <th>LeadStudio_Sony</th>\n",
       "      <th>LeadStudio_Summit</th>\n",
       "      <th>LeadStudio_The Weinstein Company</th>\n",
       "      <th>LeadStudio_Universal</th>\n",
       "      <th>LeadStudio_Warner Bros.</th>\n",
       "    </tr>\n",
       "  </thead>\n",
       "  <tbody>\n",
       "    <tr>\n",
       "      <th>0</th>\n",
       "      <td>Zack and Miri Make a Porno</td>\n",
       "      <td>70</td>\n",
       "      <td>1.747542</td>\n",
       "      <td>64</td>\n",
       "      <td>41.94</td>\n",
       "      <td>2008</td>\n",
       "      <td>0</td>\n",
       "      <td>0</td>\n",
       "      <td>0</td>\n",
       "      <td>0</td>\n",
       "      <td>...</td>\n",
       "      <td>0</td>\n",
       "      <td>0</td>\n",
       "      <td>0</td>\n",
       "      <td>0</td>\n",
       "      <td>0</td>\n",
       "      <td>0</td>\n",
       "      <td>0</td>\n",
       "      <td>1</td>\n",
       "      <td>0</td>\n",
       "      <td>0</td>\n",
       "    </tr>\n",
       "    <tr>\n",
       "      <th>1</th>\n",
       "      <td>Youth in Revolt</td>\n",
       "      <td>52</td>\n",
       "      <td>1.090000</td>\n",
       "      <td>68</td>\n",
       "      <td>19.62</td>\n",
       "      <td>2010</td>\n",
       "      <td>0</td>\n",
       "      <td>1</td>\n",
       "      <td>0</td>\n",
       "      <td>0</td>\n",
       "      <td>...</td>\n",
       "      <td>0</td>\n",
       "      <td>0</td>\n",
       "      <td>0</td>\n",
       "      <td>0</td>\n",
       "      <td>0</td>\n",
       "      <td>0</td>\n",
       "      <td>0</td>\n",
       "      <td>1</td>\n",
       "      <td>0</td>\n",
       "      <td>0</td>\n",
       "    </tr>\n",
       "    <tr>\n",
       "      <th>2</th>\n",
       "      <td>You Will Meet a Tall Dark Stranger</td>\n",
       "      <td>35</td>\n",
       "      <td>1.211818</td>\n",
       "      <td>43</td>\n",
       "      <td>26.66</td>\n",
       "      <td>2010</td>\n",
       "      <td>0</td>\n",
       "      <td>1</td>\n",
       "      <td>0</td>\n",
       "      <td>0</td>\n",
       "      <td>...</td>\n",
       "      <td>0</td>\n",
       "      <td>1</td>\n",
       "      <td>0</td>\n",
       "      <td>0</td>\n",
       "      <td>0</td>\n",
       "      <td>0</td>\n",
       "      <td>0</td>\n",
       "      <td>0</td>\n",
       "      <td>0</td>\n",
       "      <td>0</td>\n",
       "    </tr>\n",
       "    <tr>\n",
       "      <th>3</th>\n",
       "      <td>When in Rome</td>\n",
       "      <td>44</td>\n",
       "      <td>0.000000</td>\n",
       "      <td>15</td>\n",
       "      <td>43.04</td>\n",
       "      <td>2010</td>\n",
       "      <td>0</td>\n",
       "      <td>1</td>\n",
       "      <td>0</td>\n",
       "      <td>0</td>\n",
       "      <td>...</td>\n",
       "      <td>0</td>\n",
       "      <td>0</td>\n",
       "      <td>0</td>\n",
       "      <td>0</td>\n",
       "      <td>0</td>\n",
       "      <td>0</td>\n",
       "      <td>0</td>\n",
       "      <td>0</td>\n",
       "      <td>0</td>\n",
       "      <td>0</td>\n",
       "    </tr>\n",
       "    <tr>\n",
       "      <th>4</th>\n",
       "      <td>What Happens in Vegas</td>\n",
       "      <td>72</td>\n",
       "      <td>6.267647</td>\n",
       "      <td>28</td>\n",
       "      <td>219.37</td>\n",
       "      <td>2008</td>\n",
       "      <td>0</td>\n",
       "      <td>1</td>\n",
       "      <td>0</td>\n",
       "      <td>0</td>\n",
       "      <td>...</td>\n",
       "      <td>1</td>\n",
       "      <td>0</td>\n",
       "      <td>0</td>\n",
       "      <td>0</td>\n",
       "      <td>0</td>\n",
       "      <td>0</td>\n",
       "      <td>0</td>\n",
       "      <td>0</td>\n",
       "      <td>0</td>\n",
       "      <td>0</td>\n",
       "    </tr>\n",
       "  </tbody>\n",
       "</table>\n",
       "<p>5 rows × 23 columns</p>\n",
       "</div>"
      ],
      "text/plain": [
       "                                 Film  Audiencescore  Profitability  \\\n",
       "0          Zack and Miri Make a Porno             70       1.747542   \n",
       "1                     Youth in Revolt             52       1.090000   \n",
       "2  You Will Meet a Tall Dark Stranger             35       1.211818   \n",
       "3                        When in Rome             44       0.000000   \n",
       "4               What Happens in Vegas             72       6.267647   \n",
       "\n",
       "   RottenTomatoes  WorldwideGross  Year  Genre_animation  Genre_comedy  \\\n",
       "0              64           41.94  2008                0             0   \n",
       "1              68           19.62  2010                0             1   \n",
       "2              43           26.66  2010                0             1   \n",
       "3              15           43.04  2010                0             1   \n",
       "4              28          219.37  2008                0             1   \n",
       "\n",
       "   Genre_drama  Genre_fantasy  ...  LeadStudio_Fox  LeadStudio_Independent  \\\n",
       "0            0              0  ...               0                       0   \n",
       "1            0              0  ...               0                       0   \n",
       "2            0              0  ...               0                       1   \n",
       "3            0              0  ...               0                       0   \n",
       "4            0              0  ...               1                       0   \n",
       "\n",
       "   LeadStudio_Lionsgate  LeadStudio_New Line  LeadStudio_Paramount  \\\n",
       "0                     0                    0                     0   \n",
       "1                     0                    0                     0   \n",
       "2                     0                    0                     0   \n",
       "3                     0                    0                     0   \n",
       "4                     0                    0                     0   \n",
       "\n",
       "   LeadStudio_Sony  LeadStudio_Summit  LeadStudio_The Weinstein Company  \\\n",
       "0                0                  0                                 1   \n",
       "1                0                  0                                 1   \n",
       "2                0                  0                                 0   \n",
       "3                0                  0                                 0   \n",
       "4                0                  0                                 0   \n",
       "\n",
       "   LeadStudio_Universal  LeadStudio_Warner Bros.  \n",
       "0                     0                        0  \n",
       "1                     0                        0  \n",
       "2                     0                        0  \n",
       "3                     0                        0  \n",
       "4                     0                        0  \n",
       "\n",
       "[5 rows x 23 columns]"
      ]
     },
     "execution_count": 537,
     "metadata": {},
     "output_type": "execute_result"
    }
   ],
   "source": [
    "df.head()"
   ]
  },
  {
   "cell_type": "code",
   "execution_count": 538,
   "metadata": {},
   "outputs": [],
   "source": [
    "X = df.drop(['Film','WorldwideGross'], axis=1)"
   ]
  },
  {
   "cell_type": "code",
   "execution_count": 539,
   "metadata": {},
   "outputs": [],
   "source": [
    "Y = df['WorldwideGross']"
   ]
  },
  {
   "cell_type": "code",
   "execution_count": 542,
   "metadata": {},
   "outputs": [],
   "source": [
    "# Saving feature names for later use\n",
    "feature_list = list(X.columns)"
   ]
  },
  {
   "cell_type": "code",
   "execution_count": 543,
   "metadata": {},
   "outputs": [],
   "source": [
    "# Convert to numpy array\n",
    "features = np.array(X)"
   ]
  },
  {
   "cell_type": "code",
   "execution_count": 547,
   "metadata": {},
   "outputs": [
    {
     "name": "stdout",
     "output_type": "stream",
     "text": [
      "<class 'pandas.core.frame.DataFrame'>\n",
      "Int64Index: 75 entries, 0 to 76\n",
      "Data columns (total 21 columns):\n",
      "Audiencescore                       75 non-null int64\n",
      "Profitability                       75 non-null float64\n",
      "RottenTomatoes                      75 non-null int64\n",
      "Year                                75 non-null int64\n",
      "Genre_animation                     75 non-null uint8\n",
      "Genre_comedy                        75 non-null uint8\n",
      "Genre_drama                         75 non-null uint8\n",
      "Genre_fantasy                       75 non-null uint8\n",
      "Genre_romance                       75 non-null uint8\n",
      "LeadStudio_CBS                      75 non-null uint8\n",
      "LeadStudio_Disney                   75 non-null uint8\n",
      "LeadStudio_Fox                      75 non-null uint8\n",
      "LeadStudio_Independent              75 non-null uint8\n",
      "LeadStudio_Lionsgate                75 non-null uint8\n",
      "LeadStudio_New Line                 75 non-null uint8\n",
      "LeadStudio_Paramount                75 non-null uint8\n",
      "LeadStudio_Sony                     75 non-null uint8\n",
      "LeadStudio_Summit                   75 non-null uint8\n",
      "LeadStudio_The Weinstein Company    75 non-null uint8\n",
      "LeadStudio_Universal                75 non-null uint8\n",
      "LeadStudio_Warner Bros.             75 non-null uint8\n",
      "dtypes: float64(1), int64(3), uint8(17)\n",
      "memory usage: 6.7 KB\n"
     ]
    }
   ],
   "source": [
    "X.info()"
   ]
  },
  {
   "cell_type": "code",
   "execution_count": 564,
   "metadata": {},
   "outputs": [],
   "source": [
    "# Using Skicit-learn to split data into training and testing sets\n",
    "from sklearn.model_selection import train_test_split\n",
    "# Split the data into training and testing sets\n",
    " # Splitting the dataset into train and test \n",
    "#X_train, X_test, y_train, y_test = train_test_split(  \n",
    "    #X, Y, test_size = 0.3, random_state = 100) "
   ]
  },
  {
   "cell_type": "code",
   "execution_count": 557,
   "metadata": {},
   "outputs": [],
   "source": [
    "# Import the model we are using\n",
    "#from sklearn.ensemble import RandomForestRegressor\n",
    "# Instantiate model with 1000 decision trees\n",
    "#rf = RandomForestRegressor(n_estimators = 1000, random_state = 44)\n",
    "# Train the model on training data\n",
    "#rf.fit(X_train, y_train);"
   ]
  },
  {
   "cell_type": "code",
   "execution_count": 558,
   "metadata": {},
   "outputs": [],
   "source": [
    "# Use the forest's predict method on the test data\n",
    "#predictions = rf.predict(X_test)"
   ]
  },
  {
   "cell_type": "code",
   "execution_count": 559,
   "metadata": {},
   "outputs": [],
   "source": [
    "# Calculate the absolute errors\n",
    "#errors = abs(predictions - y_test)"
   ]
  },
  {
   "cell_type": "code",
   "execution_count": 560,
   "metadata": {},
   "outputs": [
    {
     "name": "stdout",
     "output_type": "stream",
     "text": [
      "Mean Absolute Error: 106.12 degrees.\n"
     ]
    }
   ],
   "source": [
    "# Print out the mean absolute error (mae)\n",
    "#print('Mean Absolute Error:', round(np.mean(errors), 2), 'degrees.')"
   ]
  },
  {
   "cell_type": "code",
   "execution_count": 565,
   "metadata": {},
   "outputs": [
    {
     "data": {
      "text/plain": [
       "array([-0.83937772,  0.0416279 , -3.9671089 ,  0.70751417, -1.08524065,\n",
       "        0.0760432 , -6.59556442,  0.40205483, -3.81356157, -7.74520569])"
      ]
     },
     "execution_count": 565,
     "metadata": {},
     "output_type": "execute_result"
    }
   ],
   "source": [
    "regressor = DecisionTreeRegressor(random_state=0)\n",
    "cross_val_score(regressor, X, y, cv=10)"
   ]
  }
 ],
 "metadata": {
  "kernelspec": {
   "display_name": "Python 3",
   "language": "python",
   "name": "python3"
  },
  "language_info": {
   "codemirror_mode": {
    "name": "ipython",
    "version": 3
   },
   "file_extension": ".py",
   "mimetype": "text/x-python",
   "name": "python",
   "nbconvert_exporter": "python",
   "pygments_lexer": "ipython3",
   "version": "3.7.3"
  }
 },
 "nbformat": 4,
 "nbformat_minor": 2
}
